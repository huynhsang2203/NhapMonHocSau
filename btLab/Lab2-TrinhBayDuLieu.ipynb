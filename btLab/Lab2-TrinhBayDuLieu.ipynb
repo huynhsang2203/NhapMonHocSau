{
 "cells": [
  {
   "cell_type": "code",
   "execution_count": 43,
   "metadata": {},
   "outputs": [],
   "source": [
    "import pandas as pd"
   ]
  },
  {
   "cell_type": "code",
   "execution_count": null,
   "metadata": {},
   "outputs": [],
   "source": []
  },
  {
   "cell_type": "code",
   "execution_count": 3,
   "metadata": {},
   "outputs": [],
   "source": [
    "import numpy as np"
   ]
  },
  {
   "cell_type": "code",
   "execution_count": 4,
   "metadata": {},
   "outputs": [],
   "source": [
    "df = pd.read_csv(\"D:\\pythonhocsau\\processed_dulieuxettuyendaihoc.csv\")"
   ]
  },
  {
   "cell_type": "code",
   "execution_count": 5,
   "metadata": {},
   "outputs": [
    {
     "name": "stdout",
     "output_type": "stream",
     "text": [
      "    STT   T1   L1   H1   S1   V1   X1   D1   N1   T2  ...  TBM1  TBM2  TBM3  \\\n",
      "0     1  7.2  7.3  6.3  7.3  7.0  7.9  7.3  5.5  8.4  ...  7.00  7.54  7.01   \n",
      "1     2  5.4  3.9  3.9  4.0  5.4  5.4  5.3  2.8  6.3  ...  4.69  5.47  5.07   \n",
      "2     3  5.6  6.8  7.2  7.5  4.3  7.4  5.8  3.2  5.0  ...  5.77  5.38  6.04   \n",
      "3     4  6.6  6.4  5.3  6.9  5.4  7.3  6.4  5.8  5.1  ...  6.21  5.20  6.88   \n",
      "4     5  6.0  5.0  6.0  7.3  6.5  7.7  7.9  6.1  5.4  ...  6.50  6.36  6.99   \n",
      "..  ...  ...  ...  ...  ...  ...  ...  ...  ...  ...  ...   ...   ...   ...   \n",
      "95   96  8.6  6.9  7.4  8.8  7.6  5.8  7.3  5.7  8.9  ...  7.43  7.42  6.83   \n",
      "96   97  3.7  5.4  6.0  5.1  5.5  3.9  6.1  4.4  4.1  ...  4.93  5.15  6.39   \n",
      "97   98  8.8  5.5  7.4  7.7  6.2  7.3  8.1  4.5  9.5  ...  7.05  7.84  7.67   \n",
      "98   99  2.7  1.8  3.4  5.3  4.5  7.9  4.9  3.8  2.8  ...  4.15  4.72  5.29   \n",
      "99  100  4.1  5.2  4.9  5.3  5.5  5.4  7.2  5.4  4.4  ...  5.26  5.72  5.85   \n",
      "\n",
      "    XL1  XL2  XL3  US_TBM1  US_TBM2  US_TBM3  KQXT  \n",
      "0     K    K    K    2.800    3.016    2.804   0.0  \n",
      "1     Y   TB   TB    1.876    2.188    2.028   0.0  \n",
      "2    TB   TB   TB    2.308    2.152    2.416   1.0  \n",
      "3    TB   TB    K    2.484    2.080    2.752   0.0  \n",
      "4     K   TB    K    2.600    2.544    2.796   0.0  \n",
      "..  ...  ...  ...      ...      ...      ...   ...  \n",
      "95    K    K    K    2.972    2.968    2.732   0.0  \n",
      "96    Y   TB   TB    1.972    2.060    2.556   0.0  \n",
      "97    K    K    K    2.820    3.136    3.068   1.0  \n",
      "98    Y    Y   TB    1.660    1.888    2.116   0.0  \n",
      "99   TB   TB   TB    2.104    2.288    2.340   0.0  \n",
      "\n",
      "[100 rows x 66 columns]\n"
     ]
    }
   ],
   "source": [
    "print(df)"
   ]
  },
  {
   "cell_type": "code",
   "execution_count": 6,
   "metadata": {},
   "outputs": [
    {
     "name": "stdout",
     "output_type": "stream",
     "text": [
      "    STT   T1   L1   H1   S1   V1   X1   D1   N1   T2  ...  TBM1  TBM2  TBM3  \\\n",
      "53   54  4.9  5.9  6.2  5.6  5.9  5.0  7.0  5.6  6.1  ...  5.69  6.26  6.02   \n",
      "43   44  6.6  7.2  5.9  6.9  7.6  8.1  7.3  6.7  6.3  ...  7.05  6.61  6.77   \n",
      "72   73  5.5  6.6  7.2  7.6  5.5  6.7  6.7  5.2  6.0  ...  6.20  5.88  6.22   \n",
      "5     6  9.3  7.6  7.9  8.6  7.0  7.3  7.7  7.9  9.6  ...  7.96  8.54  7.38   \n",
      "87   88  7.3  4.3  5.3  5.8  4.9  3.7  5.6  5.3  5.9  ...  5.44  5.78  6.48   \n",
      "..  ...  ...  ...  ...  ...  ...  ...  ...  ...  ...  ...   ...   ...   ...   \n",
      "84   85  8.4  7.4  6.0  7.8  6.3  7.2  8.5  6.0  9.3  ...  7.23  7.77  7.58   \n",
      "11   12  7.9  7.0  9.1  8.6  6.1  7.0  5.6  9.0  8.2  ...  7.43  7.72  7.49   \n",
      "23   24  5.3  6.3  5.7  6.9  5.9  7.5  6.6  5.1  6.4  ...  6.05  6.32  6.71   \n",
      "24   25  2.4  4.1  3.6  5.5  5.9  5.6  4.9  4.2  3.3  ...  4.45  4.88  5.41   \n",
      "97   98  8.8  5.5  7.4  7.7  6.2  7.3  8.1  4.5  9.5  ...  7.05  7.84  7.67   \n",
      "\n",
      "    XL1  XL2  XL3  US_TBM1  US_TBM2  US_TBM3  KQXT  \n",
      "53   TB   TB   TB    2.276    2.504    2.408   0.0  \n",
      "43    K    K    K    2.820    2.644    2.708   0.0  \n",
      "72   TB   TB   TB    2.480    2.352    2.488   0.0  \n",
      "5     K    G    K    3.184    3.416    2.952   0.0  \n",
      "87   TB   TB   TB    2.176    2.312    2.592   0.0  \n",
      "..  ...  ...  ...      ...      ...      ...   ...  \n",
      "84    K    K    K    2.892    3.108    3.032   1.0  \n",
      "11    K    K    K    2.972    3.088    2.996   1.0  \n",
      "23   TB   TB    K    2.420    2.528    2.684   1.0  \n",
      "24    Y    Y   TB    1.780    1.952    2.164   0.0  \n",
      "97    K    K    K    2.820    3.136    3.068   1.0  \n",
      "\n",
      "[100 rows x 66 columns]\n"
     ]
    }
   ],
   "source": [
    "#sắp xếp tăng dần\n",
    "print(df.sort_values(by='DH1'))"
   ]
  },
  {
   "cell_type": "code",
   "execution_count": 7,
   "metadata": {},
   "outputs": [
    {
     "name": "stdout",
     "output_type": "stream",
     "text": [
      "     T1   DH1\n",
      "53  4.9  1.00\n",
      "43  6.6  1.25\n",
      "72  5.5  1.50\n",
      "5   9.3  1.50\n",
      "87  7.3  1.75\n",
      "..  ...   ...\n",
      "84  8.4  6.50\n",
      "11  7.9  6.75\n",
      "23  5.3  6.75\n",
      "24  2.4  7.00\n",
      "97  8.8  7.00\n",
      "\n",
      "[100 rows x 2 columns]\n"
     ]
    }
   ],
   "source": [
    "df_sapxep_DH1=df.sort_values(by='DH1')\n",
    "print(df_sapxep_DH1[['T1','DH1']])"
   ]
  },
  {
   "cell_type": "code",
   "execution_count": 8,
   "metadata": {},
   "outputs": [
    {
     "name": "stdout",
     "output_type": "stream",
     "text": [
      "    STT   T1   L1   H1   S1   V1   X1   D1   N1   T2  ...  TBM1  TBM2  TBM3  \\\n",
      "53   54  4.9  5.9  6.2  5.6  5.9  5.0  7.0  5.6  6.1  ...  5.69  6.26  6.02   \n",
      "5     6  9.3  7.6  7.9  8.6  7.0  7.3  7.7  7.9  9.6  ...  7.96  8.54  7.38   \n",
      "72   73  5.5  6.6  7.2  7.6  5.5  6.7  6.7  5.2  6.0  ...  6.20  5.88  6.22   \n",
      "87   88  7.3  4.3  5.3  5.8  4.9  3.7  5.6  5.3  5.9  ...  5.44  5.78  6.48   \n",
      "86   87  6.3  6.5  8.1  7.7  6.7  5.4  7.0  5.4  6.3  ...  6.61  6.52  6.57   \n",
      "65   66  3.0  4.0  3.8  6.6  5.4  5.4  4.0  5.3  3.5  ...  4.59  4.81  5.88   \n",
      "89   90  5.7  4.6  5.9  5.7  4.7  4.3  4.4  5.5  5.6  ...  5.12  5.32  5.69   \n",
      "38   39  4.4  5.6  5.2  6.4  5.9  6.7  7.2  4.3  4.4  ...  5.60  5.28  5.58   \n",
      "69   70  6.0  5.9  6.0  5.3  4.8  7.1  5.8  5.2  6.2  ...  5.69  6.37  5.65   \n",
      "63   64  7.5  7.6  7.8  7.9  5.7  8.1  5.8  6.2  7.6  ...  6.98  7.33  6.75   \n",
      "58   59  6.5  5.8  7.4  7.7  7.2  7.5  6.5  4.6  8.3  ...  6.69  7.50  7.88   \n",
      "37   38  3.4  4.2  3.7  4.4  6.1  4.6  4.7  4.4  4.4  ...  4.50  5.26  5.55   \n",
      "33   34  6.4  4.6  6.4  5.9  5.7  7.2  6.9  2.9  4.5  ...  5.81  5.01  5.63   \n",
      "81   82  5.7  5.0  4.7  5.7  4.7  5.5  5.2  4.2  3.9  ...  5.11  4.86  6.32   \n",
      "35   36  6.5  4.4  6.5  5.7  6.4  6.9  4.0  4.6  5.3  ...  5.79  5.58  6.32   \n",
      "60   61  6.2  7.8  7.8  8.0  5.1  7.4  5.8  5.4  5.0  ...  6.48  6.62  6.88   \n",
      "34   35  4.7  7.2  7.4  7.6  6.3  7.7  4.9  4.7  6.2  ...  6.15  6.19  6.51   \n",
      "29   30  4.5  3.8  4.8  5.9  4.3  6.2  5.2  6.1  5.5  ...  4.96  5.52  5.55   \n",
      "39   40  4.3  5.0  4.8  1.9  3.1  6.1  7.5  3.8  5.3  ...  4.39  5.57  6.73   \n",
      "20   21  3.9  3.9  6.0  6.7  6.1  4.8  6.3  5.2  5.6  ...  5.29  5.93  7.05   \n",
      "59   60  3.6  4.6  5.0  6.9  5.2  4.5  5.8  7.3  3.5  ...  5.17  5.19  5.77   \n",
      "28   29  6.3  6.4  6.6  6.7  6.6  8.1  7.8  4.5  8.1  ...  6.59  6.03  6.89   \n",
      "77   78  5.2  3.6  3.8  7.1  5.3  4.8  6.4  4.5  6.8  ...  5.12  6.11  6.47   \n",
      "18   19  5.6  4.8  7.3  3.9  5.5  6.0  6.1  4.8  5.5  ...  5.51  5.65  6.79   \n",
      "92   93  5.0  6.6  6.5  7.2  5.8  6.7  6.4  6.0  6.8  ...  6.10  6.53  6.76   \n",
      "78   79  5.3  4.3  5.9  7.7  6.8  6.9  7.0  5.6  5.2  ...  6.16  5.71  5.24   \n",
      "93   94  5.2  5.2  6.8  7.9  6.6  8.9  7.6  5.3  6.8  ...  6.53  7.12  6.97   \n",
      "15   16  2.5  5.3  4.9  8.2  6.9  6.0  6.7  5.0  6.2  ...  5.49  6.44  6.21   \n",
      "88   89  5.2  6.0  4.7  6.2  3.9  6.6  4.9  3.7  6.5  ...  5.03  6.58  6.00   \n",
      "68   69  7.3  6.4  6.9  7.5  6.2  8.4  7.6  8.1  8.1  ...  7.19  7.70  8.00   \n",
      "66   67  5.1  3.7  4.7  5.5  5.1  4.5  5.8  2.8  5.3  ...  4.74  5.52  5.83   \n",
      "64   65  7.1  6.2  8.4  7.3  6.4  6.7  8.5  4.9  6.9  ...  6.90  7.06  6.93   \n",
      "3     4  6.6  6.4  5.3  6.9  5.4  7.3  6.4  5.8  5.1  ...  6.21  5.20  6.88   \n",
      "36   37  7.3  4.8  4.9  4.6  4.0  5.1  5.8  3.4  7.5  ...  5.12  6.19  6.60   \n",
      "94   95  5.8  5.9  7.6  6.1  5.3  8.1  6.1  5.0  6.4  ...  6.10  6.71  6.68   \n",
      "4     5  6.0  5.0  6.0  7.3  6.5  7.7  7.9  6.1  5.4  ...  6.50  6.36  6.99   \n",
      "17   18  5.4  6.0  4.9  5.5  4.2  7.3  5.3  4.9  4.8  ...  5.31  6.16  6.85   \n",
      "62   63  6.4  7.2  8.1  8.5  6.2  8.8  7.9  5.6  5.9  ...  7.13  7.25  7.25   \n",
      "31   32  2.6  4.6  4.6  3.6  4.2  5.4  5.2  4.5  3.8  ...  4.15  5.44  7.20   \n",
      "67   68  4.6  4.9  5.3  5.7  4.5  5.0  7.3  2.8  7.2  ...  4.92  5.79  6.08   \n",
      "47   48  7.9  7.6  8.4  8.6  6.2  7.5  8.7  7.7  7.3  ...  7.67  7.49  7.11   \n",
      "75   76  5.5  4.0  4.3  5.6  3.3  5.9  2.8  3.4  6.0  ...  4.36  4.42  4.79   \n",
      "91   92  7.8  6.5  6.7  5.4  6.2  4.8  5.9  4.4  8.9  ...  6.17  6.63  7.65   \n",
      "98   99  2.7  1.8  3.4  5.3  4.5  7.9  4.9  3.8  2.8  ...  4.15  4.72  5.29   \n",
      "2     3  5.6  6.8  7.2  7.5  4.3  7.4  5.8  3.2  5.0  ...  5.77  5.38  6.04   \n",
      "99  100  4.1  5.2  4.9  5.3  5.5  5.4  7.2  5.4  4.4  ...  5.26  5.72  5.85   \n",
      "1     2  5.4  3.9  3.9  4.0  5.4  5.4  5.3  2.8  6.3  ...  4.69  5.47  5.07   \n",
      "90   91  8.1  7.7  9.1  8.5  6.1  8.6  8.8  7.3  8.8  ...  7.84  8.27  8.29   \n",
      "84   85  8.4  7.4  6.0  7.8  6.3  7.2  8.5  6.0  9.3  ...  7.23  7.77  7.58   \n",
      "23   24  5.3  6.3  5.7  6.9  5.9  7.5  6.6  5.1  6.4  ...  6.05  6.32  6.71   \n",
      "11   12  7.9  7.0  9.1  8.6  6.1  7.0  5.6  9.0  8.2  ...  7.43  7.72  7.49   \n",
      "97   98  8.8  5.5  7.4  7.7  6.2  7.3  8.1  4.5  9.5  ...  7.05  7.84  7.67   \n",
      "\n",
      "    XL1  XL2  XL3  US_TBM1  US_TBM2  US_TBM3  KQXT  \n",
      "53   TB   TB   TB    2.276    2.504    2.408   0.0  \n",
      "5     K    G    K    3.184    3.416    2.952   0.0  \n",
      "72   TB   TB   TB    2.480    2.352    2.488   0.0  \n",
      "87   TB   TB   TB    2.176    2.312    2.592   0.0  \n",
      "86    K    K    K    2.644    2.608    2.628   0.0  \n",
      "65    Y    Y   TB    1.836    1.924    2.352   0.0  \n",
      "89   TB   TB   TB    2.048    2.128    2.276   0.0  \n",
      "38   TB   TB   TB    2.240    2.112    2.232   0.0  \n",
      "69   TB   TB   TB    2.276    2.548    2.260   0.0  \n",
      "63    K    K    K    2.792    2.932    2.700   0.0  \n",
      "58    K    K    K    2.676    3.000    3.152   0.0  \n",
      "37    Y   TB   TB    1.800    2.104    2.220   0.0  \n",
      "33   TB   TB   TB    2.324    2.004    2.252   0.0  \n",
      "81   TB    Y   TB    2.044    1.944    2.528   0.0  \n",
      "35   TB   TB   TB    2.316    2.232    2.528   0.0  \n",
      "60   TB    K    K    2.592    2.648    2.752   0.0  \n",
      "34   TB   TB    K    2.460    2.476    2.604   0.0  \n",
      "29    Y   TB   TB    1.984    2.208    2.220   0.0  \n",
      "39    Y   TB    K    1.756    2.228    2.692   0.0  \n",
      "20   TB   TB    K    2.116    2.372    2.820   0.0  \n",
      "59   TB   TB   TB    2.068    2.076    2.308   0.0  \n",
      "28    K   TB    K    2.636    2.412    2.756   0.0  \n",
      "77   TB   TB   TB    2.048    2.444    2.588   0.0  \n",
      "18   TB   TB    K    2.204    2.260    2.716   0.0  \n",
      "92   TB    K    K    2.440    2.612    2.704   0.0  \n",
      "78   TB   TB   TB    2.464    2.284    2.096   0.0  \n",
      "93    K    K    K    2.612    2.848    2.788   0.0  \n",
      "15   TB   TB   TB    2.196    2.576    2.484   0.0  \n",
      "88   TB    K   TB    2.012    2.632    2.400   0.0  \n",
      "68    K    K    G    2.876    3.080    3.200   0.0  \n",
      "66    Y   TB   TB    1.896    2.208    2.332   0.0  \n",
      "64    K    K    K    2.760    2.824    2.772   0.0  \n",
      "3    TB   TB    K    2.484    2.080    2.752   0.0  \n",
      "36   TB   TB    K    2.048    2.476    2.640   0.0  \n",
      "94   TB    K    K    2.440    2.684    2.672   0.0  \n",
      "4     K   TB    K    2.600    2.544    2.796   0.0  \n",
      "17   TB   TB    K    2.124    2.464    2.740   0.0  \n",
      "62    K    K    K    2.852    2.900    2.900   0.0  \n",
      "31    Y   TB    K    1.660    2.176    2.880   0.0  \n",
      "67    Y   TB   TB    1.968    2.316    2.432   0.0  \n",
      "47    K    K    K    3.068    2.996    2.844   1.0  \n",
      "75    Y    Y    Y    1.744    1.768    1.916   0.0  \n",
      "91   TB    K    K    2.468    2.652    3.060   0.0  \n",
      "98    Y    Y   TB    1.660    1.888    2.116   0.0  \n",
      "2    TB   TB   TB    2.308    2.152    2.416   1.0  \n",
      "99   TB   TB   TB    2.104    2.288    2.340   0.0  \n",
      "1     Y   TB   TB    1.876    2.188    2.028   0.0  \n",
      "90    K    G    G    3.136    3.308    3.316   1.0  \n",
      "84    K    K    K    2.892    3.108    3.032   1.0  \n",
      "23   TB   TB    K    2.420    2.528    2.684   1.0  \n",
      "11    K    K    K    2.972    3.088    2.996   1.0  \n",
      "97    K    K    K    2.820    3.136    3.068   1.0  \n",
      "\n",
      "[52 rows x 66 columns]\n"
     ]
    }
   ],
   "source": [
    "df_nam=df[df['GT']== 'M']\n",
    "print(df_nam.sort_values(by='DH1'))"
   ]
  },
  {
   "cell_type": "code",
   "execution_count": 9,
   "metadata": {},
   "outputs": [
    {
     "name": "stdout",
     "output_type": "stream",
     "text": [
      "    STT   T1   L1   H1   S1   V1   X1   D1   N1   T2  ...  TBM1  TBM2  TBM3  \\\n",
      "43   44  6.6  7.2  5.9  6.9  7.6  8.1  7.3  6.7  6.3  ...  7.05  6.61  6.77   \n",
      "83   84  5.9  5.7  7.1  6.7  6.5  8.0  8.1  4.3  7.4  ...  6.47  7.11  7.47   \n",
      "79   80  4.8  3.9  5.5  4.9  5.6  4.1  5.8  5.1  5.1  ...  5.01  5.30  6.08   \n",
      "50   51  5.5  7.1  6.1  5.8  6.2  6.9  7.3  6.1  6.2  ...  6.27  6.35  7.18   \n",
      "57   58  7.2  7.6  6.6  6.6  5.0  7.1  6.8  9.3  7.3  ...  6.84  7.24  6.59   \n",
      "73   74  5.2  3.1  4.7  5.8  6.1  3.1  4.8  4.4  5.5  ...  4.85  5.59  5.40   \n",
      "45   46  6.9  5.3  7.1  5.7  7.0  8.4  6.2  6.4  5.4  ...  6.69  6.29  6.58   \n",
      "12   13  7.3  6.3  8.7  7.7  6.6  8.5  6.9  8.5  5.8  ...  7.44  6.82  7.46   \n",
      "70   71  5.8  6.3  6.0  6.5  6.7  7.6  6.7  5.9  7.6  ...  6.40  6.95  7.39   \n",
      "13   14  4.9  5.4  5.0  5.0  5.8  7.0  4.2  5.8  4.5  ...  5.38  5.51  6.26   \n",
      "51   52  6.0  5.3  8.5  6.6  7.6  7.5  7.6  4.0  7.3  ...  6.67  7.73  7.18   \n",
      "10   11  5.2  6.4  7.4  7.0  7.1  8.1  7.6  6.8  6.3  ...  6.79  7.28  7.34   \n",
      "82   83  5.1  5.9  5.9  4.5  6.2  5.3  6.5  4.7  5.0  ...  5.54  6.50  7.12   \n",
      "0     1  7.2  7.3  6.3  7.3  7.0  7.9  7.3  5.5  8.4  ...  7.00  7.54  7.01   \n",
      "49   50  8.2  7.2  8.4  5.9  5.9  6.4  6.4  6.2  8.5  ...  6.87  6.92  7.14   \n",
      "76   77  5.4  6.8  7.1  7.2  5.6  6.8  6.7  5.3  6.0  ...  6.19  6.55  6.80   \n",
      "21   22  5.0  5.1  6.3  4.5  6.8  5.8  5.1  4.1  5.8  ...  5.45  5.21  6.33   \n",
      "19   20  8.2  7.3  7.8  7.6  5.6  7.2  6.0  6.5  6.4  ...  7.00  6.22  6.72   \n",
      "61   62  7.2  5.5  6.5  6.9  8.0  7.2  6.8  4.8  8.4  ...  6.81  7.23  7.64   \n",
      "16   17  8.8  7.0  7.7  7.1  6.1  5.4  8.3  5.3  7.3  ...  7.06  6.89  6.73   \n",
      "14   15  7.1  8.0  9.1  7.5  6.1  7.7  7.9  7.6  8.3  ...  7.42  7.57  7.95   \n",
      "8     9  6.5  6.3  7.6  6.0  5.5  7.1  6.3  5.0  7.3  ...  6.23  6.72  7.56   \n",
      "71   72  3.0  5.1  3.0  6.4  4.3  4.8  2.0  4.5  4.8  ...  4.04  5.30  6.72   \n",
      "52   53  5.3  7.0  7.0  7.3  6.7  8.4  6.6  7.8  8.0  ...  6.81  7.35  6.19   \n",
      "85   86  7.2  6.6  6.8  6.7  7.1  6.4  7.2  6.0  7.9  ...  6.83  7.57  6.96   \n",
      "44   45  6.1  6.9  5.9  6.6  6.0  7.0  6.8  6.7  8.8  ...  6.41  7.27  7.27   \n",
      "7     8  8.3  6.0  7.6  5.1  7.5  4.7  5.8  7.2  6.7  ...  6.80  6.87  7.03   \n",
      "9    10  7.3  5.9  4.7  7.1  6.7  7.9  6.7  7.7  8.0  ...  6.80  7.25  7.03   \n",
      "41   42  8.3  8.0  9.0  8.3  7.9  8.3  8.1  6.7  8.2  ...  8.08  8.28  8.22   \n",
      "55   56  7.9  6.9  7.0  7.0  7.0  3.9  5.6  6.4  8.4  ...  6.66  7.04  7.65   \n",
      "54   55  5.3  5.7  5.4  4.6  4.4  6.6  4.7  5.3  5.1  ...  5.17  5.42  6.59   \n",
      "80   81  8.2  6.5  5.1  6.1  6.6  8.7  7.1  6.8  9.2  ...  6.99  7.30  7.50   \n",
      "32   33  6.0  6.8  7.1  7.3  6.6  7.1  6.9  7.0  6.0  ...  6.74  6.63  6.89   \n",
      "25   26  3.6  5.8  6.9  6.1  5.5  7.2  5.5  4.3  4.2  ...  5.40  5.20  5.09   \n",
      "48   49  7.9  6.0  6.4  7.4  8.0  7.1  8.4  7.0  8.1  ...  7.41  8.01  7.71   \n",
      "40   41  5.3  6.3  8.4  7.3  5.8  8.5  7.6  7.8  7.5  ...  6.81  7.32  7.16   \n",
      "30   31  7.6  7.2  5.4  5.6  5.6  6.7  6.7  4.0  7.7  ...  6.20  6.57  6.92   \n",
      "22   23  5.0  4.5  5.3  6.8  4.8  5.5  5.5  5.5  5.5  ...  5.27  5.83  5.84   \n",
      "74   75  4.2  5.6  5.0  8.4  6.3  8.2  6.9  3.9  5.5  ...  5.90  6.55  7.01   \n",
      "27   28  8.1  5.5  5.1  5.6  6.2  6.2  6.6  4.8  4.4  ...  6.24  5.50  6.26   \n",
      "46   47  6.7  6.8  6.4  5.9  5.6  6.4  8.0  6.8  6.6  ...  6.49  6.51  6.16   \n",
      "95   96  8.6  6.9  7.4  8.8  7.6  5.8  7.3  5.7  8.9  ...  7.43  7.42  6.83   \n",
      "26   27  4.9  4.8  5.0  5.4  5.2  5.3  6.5  4.4  5.9  ...  5.16  5.47  7.23   \n",
      "96   97  3.7  5.4  6.0  5.1  5.5  3.9  6.1  4.4  4.1  ...  4.93  5.15  6.39   \n",
      "42   43  7.0  7.4  7.5  8.3  8.7  8.0  8.8  7.0  7.2  ...  7.84  7.95  7.22   \n",
      "56   57  6.3  6.9  6.9  6.9  6.8  6.2  7.6  6.7  7.0  ...  6.74  6.91  7.38   \n",
      "6     7  2.8  3.9  5.5  6.9  5.0  7.3  4.6  5.2  4.4  ...  4.90  5.60  6.01   \n",
      "24   25  2.4  4.1  3.6  5.5  5.9  5.6  4.9  4.2  3.3  ...  4.45  4.88  5.41   \n",
      "\n",
      "    XL1  XL2  XL3  US_TBM1  US_TBM2  US_TBM3  KQXT  \n",
      "43    K    K    K    2.820    2.644    2.708   0.0  \n",
      "83   TB    K    K    2.588    2.844    2.988   0.0  \n",
      "79   TB   TB   TB    2.004    2.120    2.432   0.0  \n",
      "50   TB   TB    K    2.508    2.540    2.872   0.0  \n",
      "57    K    K    K    2.736    2.896    2.636   0.0  \n",
      "73    Y   TB   TB    1.940    2.236    2.160   0.0  \n",
      "45    K   TB    K    2.676    2.516    2.632   0.0  \n",
      "12    K    K    K    2.976    2.728    2.984   0.0  \n",
      "70   TB    K    K    2.560    2.780    2.956   0.0  \n",
      "13   TB   TB   TB    2.152    2.204    2.504   0.0  \n",
      "51    K    K    K    2.668    3.092    2.872   0.0  \n",
      "10    K    K    K    2.716    2.912    2.936   0.0  \n",
      "82   TB    K    K    2.216    2.600    2.848   0.0  \n",
      "0     K    K    K    2.800    3.016    2.804   0.0  \n",
      "49    K    K    K    2.748    2.768    2.856   0.0  \n",
      "76   TB    K    K    2.476    2.620    2.720   0.0  \n",
      "21   TB   TB   TB    2.180    2.084    2.532   0.0  \n",
      "19    K   TB    K    2.800    2.488    2.688   0.0  \n",
      "61    K    K    K    2.724    2.892    3.056   0.0  \n",
      "16    K    K    K    2.824    2.756    2.692   0.0  \n",
      "14    K    K    K    2.968    3.028    3.180   0.0  \n",
      "8    TB    K    K    2.492    2.688    3.024   0.0  \n",
      "71    Y   TB    K    1.616    2.120    2.688   0.0  \n",
      "52    K    K   TB    2.724    2.940    2.476   0.0  \n",
      "85    K    K    K    2.732    3.028    2.784   0.0  \n",
      "44   TB    K    K    2.564    2.908    2.908   0.0  \n",
      "7     K    K    K    2.720    2.748    2.812   0.0  \n",
      "9     K    K    K    2.720    2.900    2.812   0.0  \n",
      "41    G    G    G    3.232    3.312    3.288   0.0  \n",
      "55    K    K    K    2.664    2.816    3.060   0.0  \n",
      "54   TB   TB    K    2.068    2.168    2.636   0.0  \n",
      "80    K    K    K    2.796    2.920    3.000   0.0  \n",
      "32    K    K    K    2.696    2.652    2.756   0.0  \n",
      "25   TB   TB   TB    2.160    2.080    2.036   0.0  \n",
      "48    K    G    K    2.964    3.204    3.084   1.0  \n",
      "40    K    K    K    2.724    2.928    2.864   0.0  \n",
      "30   TB    K    K    2.480    2.628    2.768   0.0  \n",
      "22   TB   TB   TB    2.108    2.332    2.336   0.0  \n",
      "74   TB    K    K    2.360    2.620    2.804   0.0  \n",
      "27   TB   TB   TB    2.496    2.200    2.504   0.0  \n",
      "46   TB    K   TB    2.596    2.604    2.464   0.0  \n",
      "95    K    K    K    2.972    2.968    2.732   0.0  \n",
      "26   TB   TB    K    2.064    2.188    2.892   0.0  \n",
      "96    Y   TB   TB    1.972    2.060    2.556   0.0  \n",
      "42    K    K    K    3.136    3.180    2.888   0.0  \n",
      "56    K    K    K    2.696    2.764    2.952   1.0  \n",
      "6     Y   TB   TB    1.960    2.240    2.404   1.0  \n",
      "24    Y    Y   TB    1.780    1.952    2.164   0.0  \n",
      "\n",
      "[48 rows x 66 columns]\n"
     ]
    }
   ],
   "source": [
    "df_nu=df[df['GT']== 'F']\n",
    "print(df_nu.sort_values(by='DH1'))"
   ]
  },
  {
   "cell_type": "code",
   "execution_count": 10,
   "metadata": {},
   "outputs": [
    {
     "name": "stdout",
     "output_type": "stream",
     "text": [
      "KT               A         A1          B          C         D1\n",
      "count    49.000000   6.000000   9.000000  14.000000  22.000000\n",
      "max       6.500000   4.250000   4.500000   7.000000   6.750000\n",
      "mean      3.336735   2.916667   3.277778   5.660714   3.829545\n",
      "median    3.250000   3.000000   3.500000   5.250000   3.750000\n",
      "min       1.000000   2.000000   1.750000   4.750000   1.250000\n",
      "sum     163.500000  17.500000  29.500000  79.250000  84.250000\n"
     ]
    }
   ],
   "source": [
    "df_KT = df.groupby('KT')['DH1'].agg(['count','mean','sum','min','max','median'])\n",
    "print(pd.pivot_table(df_KT,columns='KT'))"
   ]
  },
  {
   "cell_type": "code",
   "execution_count": 11,
   "metadata": {
    "scrolled": true
   },
   "outputs": [
    {
     "name": "stdout",
     "output_type": "stream",
     "text": [
      "KT              A                             A1                     B        \\\n",
      "KV              1          2        2NT        1        2NT          1   2NT   \n",
      "count   29.000000   9.000000  11.000000  2.00000   4.000000   8.000000  1.00   \n",
      "max      6.500000   6.250000   4.750000  2.75000   4.250000   4.500000  3.75   \n",
      "mean     3.232759   3.527778   3.454545  2.37500   3.187500   3.218750  3.75   \n",
      "median   3.250000   3.500000   3.500000  2.37500   3.250000   3.375000  3.75   \n",
      "min      1.000000   2.000000   2.000000  2.00000   2.000000   1.750000  3.75   \n",
      "std      1.369194   1.427653   0.913908  0.53033   0.921389   0.860207   NaN   \n",
      "sum     93.750000  31.750000  38.000000  4.75000  12.750000  25.750000  3.75   \n",
      "\n",
      "KT              C                              D1                   \n",
      "KV              1         2        2NT          1          2   2NT  \n",
      "count    8.000000   2.00000   4.000000  13.000000   8.000000  1.00  \n",
      "max      7.000000   6.50000   7.000000   5.750000   6.750000  3.75  \n",
      "mean     5.437500   5.75000   6.062500   3.596154   4.218750  3.75  \n",
      "median   5.250000   5.75000   6.000000   3.500000   4.500000  3.75  \n",
      "min      4.750000   5.00000   5.250000   1.500000   1.250000  3.75  \n",
      "std      0.728869   1.06066   0.943729   1.264658   1.617082   NaN  \n",
      "sum     43.500000  11.50000  24.250000  46.750000  33.750000  3.75  \n"
     ]
    }
   ],
   "source": [
    "df_KT1 = df.groupby(['KT','KV'])['DH1'].agg(['count','mean','sum','min','max','median','std'])\n",
    "print(pd.pivot_table(df_KT1,columns = ['KT','KV']))"
   ]
  },
  {
   "cell_type": "code",
   "execution_count": 12,
   "metadata": {},
   "outputs": [
    {
     "name": "stdout",
     "output_type": "stream",
     "text": [
      "KT              A                                   A1                     B  \\\n",
      "KV              1          2              2NT        1        2NT          1   \n",
      "DT            0.0        0.0   6.0        0.0      0.0        0.0        0.0   \n",
      "count   29.000000   8.000000  1.00  11.000000  2.00000   4.000000   8.000000   \n",
      "max      6.500000   6.250000  4.25   4.750000  2.75000   4.250000   4.500000   \n",
      "mean     3.232759   3.437500  4.25   3.454545  2.37500   3.187500   3.218750   \n",
      "median   3.250000   3.000000  4.25   3.500000  2.37500   3.250000   3.375000   \n",
      "min      1.000000   2.000000  4.25   2.000000  2.00000   2.000000   1.750000   \n",
      "std      1.369194   1.498511   NaN   0.913908  0.53033   0.921389   0.860207   \n",
      "sum     93.750000  27.500000  4.25  38.000000  4.75000  12.750000  25.750000   \n",
      "\n",
      "KT                    C                              D1                        \\\n",
      "KV       2NT          1         2        2NT          1               2         \n",
      "DT       0.0        0.0       0.0        0.0        0.0  1.0        0.0   1.0   \n",
      "count   1.00   8.000000   2.00000   4.000000  12.000000  1.0   7.000000  1.00   \n",
      "max     3.75   7.000000   6.50000   7.000000   5.750000  3.0   6.750000  1.25   \n",
      "mean    3.75   5.437500   5.75000   6.062500   3.645833  3.0   4.642857  1.25   \n",
      "median  3.75   5.250000   5.75000   6.000000   3.625000  3.0   4.500000  1.25   \n",
      "min     3.75   4.750000   5.00000   5.250000   1.500000  3.0   3.000000  1.25   \n",
      "std      NaN   0.728869   1.06066   0.943729   1.307576  NaN   1.171334   NaN   \n",
      "sum     3.75  43.500000  11.50000  24.250000  43.750000  3.0  32.500000  1.25   \n",
      "\n",
      "KT            \n",
      "KV       2NT  \n",
      "DT       0.0  \n",
      "count   1.00  \n",
      "max     3.75  \n",
      "mean    3.75  \n",
      "median  3.75  \n",
      "min     3.75  \n",
      "std      NaN  \n",
      "sum     3.75  \n"
     ]
    }
   ],
   "source": [
    "df_KT2 = df.groupby(['KT','KV','DT'])['DH1'].agg(['count','mean','sum','min','max','median','std'])\n",
    "print(pd.pivot_table(df_KT2,columns = ['KT','KV','DT']))"
   ]
  },
  {
   "cell_type": "code",
   "execution_count": 13,
   "metadata": {},
   "outputs": [
    {
     "name": "stdout",
     "output_type": "stream",
     "text": [
      "GT      F   M\n",
      "count  48  52\n"
     ]
    }
   ],
   "source": [
    "df_GT = df.groupby(['GT'])['GT'].agg(['count'])\n",
    "print(pd.pivot_table(df_GT,columns = ['GT']))\n",
    "df_GT_table = pd.pivot_table(df_GT,values='count',columns = ['GT'])"
   ]
  },
  {
   "cell_type": "code",
   "execution_count": 14,
   "metadata": {},
   "outputs": [
    {
     "data": {
      "text/plain": [
       "array([<AxesSubplot:ylabel='count'>], dtype=object)"
      ]
     },
     "execution_count": 14,
     "metadata": {},
     "output_type": "execute_result"
    },
    {
     "data": {
      "image/png": "[encoded data removed]",
      "text/plain": [
       "<Figure size 432x288 with 1 Axes>"
      ]
     },
     "metadata": {
      "needs_background": "light"
     },
     "output_type": "display_data"
    },
    {
     "data": {
      "image/png": "[encoded data removed]",
      "text/plain": [
       "<Figure size 432x288 with 1 Axes>"
      ]
     },
     "metadata": {
      "needs_background": "light"
     },
     "output_type": "display_data"
    },
    {
     "data": {
      "image/png": "[encoded data removed]",
      "text/plain": [
       "<Figure size 432x288 with 1 Axes>"
      ]
     },
     "metadata": {},
     "output_type": "display_data"
    }
   ],
   "source": [
    "df_GT_table.plot.bar(stacked=True)\n",
    "df_GT.plot.barh(stacked=False)\n",
    "df_GT.plot.pie(subplots=True)"
   ]
  },
  {
   "cell_type": "code",
   "execution_count": 15,
   "metadata": {},
   "outputs": [
    {
     "name": "stdout",
     "output_type": "stream",
     "text": [
      "        count    sum      mean  median   min   max       std      Q1     Q2  \\\n",
      "KT KV                                                                         \n",
      "A  1       29  93.75  3.232759   3.250  1.00  6.50  1.369194  2.0000  3.250   \n",
      "   2        9  31.75  3.527778   3.500  2.00  6.25  1.427653  2.2500  3.500   \n",
      "   2NT     11  38.00  3.454545   3.500  2.00  4.75  0.913908  2.8750  3.500   \n",
      "A1 1        2   4.75  2.375000   2.375  2.00  2.75  0.530330  2.1875  2.375   \n",
      "   2NT      4  12.75  3.187500   3.250  2.00  4.25  0.921389  2.9375  3.250   \n",
      "B  1        8  25.75  3.218750   3.375  1.75  4.50  0.860207  3.0000  3.375   \n",
      "   2NT      1   3.75  3.750000   3.750  3.75  3.75       NaN  3.7500  3.750   \n",
      "C  1        8  43.50  5.437500   5.250  4.75  7.00  0.728869  5.0000  5.250   \n",
      "   2        2  11.50  5.750000   5.750  5.00  6.50  1.060660  5.3750  5.750   \n",
      "   2NT      4  24.25  6.062500   6.000  5.25  7.00  0.943729  5.2500  6.000   \n",
      "D1 1       13  46.75  3.596154   3.500  1.50  5.75  1.264658  2.7500  3.500   \n",
      "   2        8  33.75  4.218750   4.500  1.25  6.75  1.617082  3.5625  4.500   \n",
      "   2NT      1   3.75  3.750000   3.750  3.75  3.75       NaN  3.7500  3.750   \n",
      "\n",
      "            Q3  \n",
      "KT KV           \n",
      "A  1    4.2500  \n",
      "   2    4.2500  \n",
      "   2NT  4.1250  \n",
      "A1 1    2.5625  \n",
      "   2NT  3.5000  \n",
      "B  1    3.5625  \n",
      "   2NT  3.7500  \n",
      "C  1    5.4375  \n",
      "   2    6.1250  \n",
      "   2NT  6.8125  \n",
      "D1 1    4.2500  \n",
      "   2    5.0000  \n",
      "   2NT  3.7500  \n"
     ]
    }
   ],
   "source": [
    "df_theo_KTvsKV = df.groupby(['KT','KV'])['DH1'].agg(['count','sum','mean','median','min','max','std',lambda x: x.quantile(0.25),lambda x: x.quantile(0.5),lambda x: x.quantile(0.75)])\n",
    "df_theo_KTvsKV = df_theo_KTvsKV.rename(columns={'<lambda_0>':'Q1','<lambda_1>':'Q2','<lambda_2>':'Q3'})\n",
    "print(df_theo_KTvsKV )\n"
   ]
  },
  {
   "cell_type": "code",
   "execution_count": 16,
   "metadata": {},
   "outputs": [
    {
     "name": "stdout",
     "output_type": "stream",
     "text": [
      "    count\n",
      "GT       \n",
      "F      48\n",
      "M      52\n"
     ]
    },
    {
     "data": {
      "text/plain": [
       "<AxesSubplot:xlabel='GT'>"
      ]
     },
     "execution_count": 16,
     "metadata": {},
     "output_type": "execute_result"
    },
    {
     "data": {
      "image/png": "[encoded data removed]",
      "text/plain": [
       "<Figure size 432x288 with 1 Axes>"
      ]
     },
     "metadata": {
      "needs_background": "light"
     },
     "output_type": "display_data"
    }
   ],
   "source": [
    "df_namnu=df.groupby('GT')['GT'].agg(['count'])\n",
    "print(df_namnu)\n",
    "df_namnu.plot.bar()\n"
   ]
  },
  {
   "cell_type": "code",
   "execution_count": 17,
   "metadata": {},
   "outputs": [
    {
     "name": "stdout",
     "output_type": "stream",
     "text": [
      "    STT   T1   L1   H1   S1   V1   X1   D1   N1   T2  ...  TBM1  TBM2  TBM3  \\\n",
      "1     2  5.4  3.9  3.9  4.0  5.4  5.4  5.3  2.8  6.3  ...  4.69  5.47  5.07   \n",
      "2     3  5.6  6.8  7.2  7.5  4.3  7.4  5.8  3.2  5.0  ...  5.77  5.38  6.04   \n",
      "3     4  6.6  6.4  5.3  6.9  5.4  7.3  6.4  5.8  5.1  ...  6.21  5.20  6.88   \n",
      "4     5  6.0  5.0  6.0  7.3  6.5  7.7  7.9  6.1  5.4  ...  6.50  6.36  6.99   \n",
      "5     6  9.3  7.6  7.9  8.6  7.0  7.3  7.7  7.9  9.6  ...  7.96  8.54  7.38   \n",
      "11   12  7.9  7.0  9.1  8.6  6.1  7.0  5.6  9.0  8.2  ...  7.43  7.72  7.49   \n",
      "15   16  2.5  5.3  4.9  8.2  6.9  6.0  6.7  5.0  6.2  ...  5.49  6.44  6.21   \n",
      "17   18  5.4  6.0  4.9  5.5  4.2  7.3  5.3  4.9  4.8  ...  5.31  6.16  6.85   \n",
      "18   19  5.6  4.8  7.3  3.9  5.5  6.0  6.1  4.8  5.5  ...  5.51  5.65  6.79   \n",
      "20   21  3.9  3.9  6.0  6.7  6.1  4.8  6.3  5.2  5.6  ...  5.29  5.93  7.05   \n",
      "23   24  5.3  6.3  5.7  6.9  5.9  7.5  6.6  5.1  6.4  ...  6.05  6.32  6.71   \n",
      "28   29  6.3  6.4  6.6  6.7  6.6  8.1  7.8  4.5  8.1  ...  6.59  6.03  6.89   \n",
      "29   30  4.5  3.8  4.8  5.9  4.3  6.2  5.2  6.1  5.5  ...  4.96  5.52  5.55   \n",
      "31   32  2.6  4.6  4.6  3.6  4.2  5.4  5.2  4.5  3.8  ...  4.15  5.44  7.20   \n",
      "33   34  6.4  4.6  6.4  5.9  5.7  7.2  6.9  2.9  4.5  ...  5.81  5.01  5.63   \n",
      "34   35  4.7  7.2  7.4  7.6  6.3  7.7  4.9  4.7  6.2  ...  6.15  6.19  6.51   \n",
      "35   36  6.5  4.4  6.5  5.7  6.4  6.9  4.0  4.6  5.3  ...  5.79  5.58  6.32   \n",
      "36   37  7.3  4.8  4.9  4.6  4.0  5.1  5.8  3.4  7.5  ...  5.12  6.19  6.60   \n",
      "37   38  3.4  4.2  3.7  4.4  6.1  4.6  4.7  4.4  4.4  ...  4.50  5.26  5.55   \n",
      "38   39  4.4  5.6  5.2  6.4  5.9  6.7  7.2  4.3  4.4  ...  5.60  5.28  5.58   \n",
      "39   40  4.3  5.0  4.8  1.9  3.1  6.1  7.5  3.8  5.3  ...  4.39  5.57  6.73   \n",
      "47   48  7.9  7.6  8.4  8.6  6.2  7.5  8.7  7.7  7.3  ...  7.67  7.49  7.11   \n",
      "53   54  4.9  5.9  6.2  5.6  5.9  5.0  7.0  5.6  6.1  ...  5.69  6.26  6.02   \n",
      "58   59  6.5  5.8  7.4  7.7  7.2  7.5  6.5  4.6  8.3  ...  6.69  7.50  7.88   \n",
      "59   60  3.6  4.6  5.0  6.9  5.2  4.5  5.8  7.3  3.5  ...  5.17  5.19  5.77   \n",
      "60   61  6.2  7.8  7.8  8.0  5.1  7.4  5.8  5.4  5.0  ...  6.48  6.62  6.88   \n",
      "62   63  6.4  7.2  8.1  8.5  6.2  8.8  7.9  5.6  5.9  ...  7.13  7.25  7.25   \n",
      "63   64  7.5  7.6  7.8  7.9  5.7  8.1  5.8  6.2  7.6  ...  6.98  7.33  6.75   \n",
      "64   65  7.1  6.2  8.4  7.3  6.4  6.7  8.5  4.9  6.9  ...  6.90  7.06  6.93   \n",
      "65   66  3.0  4.0  3.8  6.6  5.4  5.4  4.0  5.3  3.5  ...  4.59  4.81  5.88   \n",
      "66   67  5.1  3.7  4.7  5.5  5.1  4.5  5.8  2.8  5.3  ...  4.74  5.52  5.83   \n",
      "67   68  4.6  4.9  5.3  5.7  4.5  5.0  7.3  2.8  7.2  ...  4.92  5.79  6.08   \n",
      "68   69  7.3  6.4  6.9  7.5  6.2  8.4  7.6  8.1  8.1  ...  7.19  7.70  8.00   \n",
      "69   70  6.0  5.9  6.0  5.3  4.8  7.1  5.8  5.2  6.2  ...  5.69  6.37  5.65   \n",
      "72   73  5.5  6.6  7.2  7.6  5.5  6.7  6.7  5.2  6.0  ...  6.20  5.88  6.22   \n",
      "75   76  5.5  4.0  4.3  5.6  3.3  5.9  2.8  3.4  6.0  ...  4.36  4.42  4.79   \n",
      "77   78  5.2  3.6  3.8  7.1  5.3  4.8  6.4  4.5  6.8  ...  5.12  6.11  6.47   \n",
      "78   79  5.3  4.3  5.9  7.7  6.8  6.9  7.0  5.6  5.2  ...  6.16  5.71  5.24   \n",
      "81   82  5.7  5.0  4.7  5.7  4.7  5.5  5.2  4.2  3.9  ...  5.11  4.86  6.32   \n",
      "84   85  8.4  7.4  6.0  7.8  6.3  7.2  8.5  6.0  9.3  ...  7.23  7.77  7.58   \n",
      "86   87  6.3  6.5  8.1  7.7  6.7  5.4  7.0  5.4  6.3  ...  6.61  6.52  6.57   \n",
      "87   88  7.3  4.3  5.3  5.8  4.9  3.7  5.6  5.3  5.9  ...  5.44  5.78  6.48   \n",
      "88   89  5.2  6.0  4.7  6.2  3.9  6.6  4.9  3.7  6.5  ...  5.03  6.58  6.00   \n",
      "89   90  5.7  4.6  5.9  5.7  4.7  4.3  4.4  5.5  5.6  ...  5.12  5.32  5.69   \n",
      "90   91  8.1  7.7  9.1  8.5  6.1  8.6  8.8  7.3  8.8  ...  7.84  8.27  8.29   \n",
      "91   92  7.8  6.5  6.7  5.4  6.2  4.8  5.9  4.4  8.9  ...  6.17  6.63  7.65   \n",
      "92   93  5.0  6.6  6.5  7.2  5.8  6.7  6.4  6.0  6.8  ...  6.10  6.53  6.76   \n",
      "93   94  5.2  5.2  6.8  7.9  6.6  8.9  7.6  5.3  6.8  ...  6.53  7.12  6.97   \n",
      "94   95  5.8  5.9  7.6  6.1  5.3  8.1  6.1  5.0  6.4  ...  6.10  6.71  6.68   \n",
      "97   98  8.8  5.5  7.4  7.7  6.2  7.3  8.1  4.5  9.5  ...  7.05  7.84  7.67   \n",
      "98   99  2.7  1.8  3.4  5.3  4.5  7.9  4.9  3.8  2.8  ...  4.15  4.72  5.29   \n",
      "99  100  4.1  5.2  4.9  5.3  5.5  5.4  7.2  5.4  4.4  ...  5.26  5.72  5.85   \n",
      "\n",
      "    XL1  XL2  XL3  US_TBM1  US_TBM2  US_TBM3  KQXT  \n",
      "1     Y   TB   TB    1.876    2.188    2.028   0.0  \n",
      "2    TB   TB   TB    2.308    2.152    2.416   1.0  \n",
      "3    TB   TB    K    2.484    2.080    2.752   0.0  \n",
      "4     K   TB    K    2.600    2.544    2.796   0.0  \n",
      "5     K    G    K    3.184    3.416    2.952   0.0  \n",
      "11    K    K    K    2.972    3.088    2.996   1.0  \n",
      "15   TB   TB   TB    2.196    2.576    2.484   0.0  \n",
      "17   TB   TB    K    2.124    2.464    2.740   0.0  \n",
      "18   TB   TB    K    2.204    2.260    2.716   0.0  \n",
      "20   TB   TB    K    2.116    2.372    2.820   0.0  \n",
      "23   TB   TB    K    2.420    2.528    2.684   1.0  \n",
      "28    K   TB    K    2.636    2.412    2.756   0.0  \n",
      "29    Y   TB   TB    1.984    2.208    2.220   0.0  \n",
      "31    Y   TB    K    1.660    2.176    2.880   0.0  \n",
      "33   TB   TB   TB    2.324    2.004    2.252   0.0  \n",
      "34   TB   TB    K    2.460    2.476    2.604   0.0  \n",
      "35   TB   TB   TB    2.316    2.232    2.528   0.0  \n",
      "36   TB   TB    K    2.048    2.476    2.640   0.0  \n",
      "37    Y   TB   TB    1.800    2.104    2.220   0.0  \n",
      "38   TB   TB   TB    2.240    2.112    2.232   0.0  \n",
      "39    Y   TB    K    1.756    2.228    2.692   0.0  \n",
      "47    K    K    K    3.068    2.996    2.844   1.0  \n",
      "53   TB   TB   TB    2.276    2.504    2.408   0.0  \n",
      "58    K    K    K    2.676    3.000    3.152   0.0  \n",
      "59   TB   TB   TB    2.068    2.076    2.308   0.0  \n",
      "60   TB    K    K    2.592    2.648    2.752   0.0  \n",
      "62    K    K    K    2.852    2.900    2.900   0.0  \n",
      "63    K    K    K    2.792    2.932    2.700   0.0  \n",
      "64    K    K    K    2.760    2.824    2.772   0.0  \n",
      "65    Y    Y   TB    1.836    1.924    2.352   0.0  \n",
      "66    Y   TB   TB    1.896    2.208    2.332   0.0  \n",
      "67    Y   TB   TB    1.968    2.316    2.432   0.0  \n",
      "68    K    K    G    2.876    3.080    3.200   0.0  \n",
      "69   TB   TB   TB    2.276    2.548    2.260   0.0  \n",
      "72   TB   TB   TB    2.480    2.352    2.488   0.0  \n",
      "75    Y    Y    Y    1.744    1.768    1.916   0.0  \n",
      "77   TB   TB   TB    2.048    2.444    2.588   0.0  \n",
      "78   TB   TB   TB    2.464    2.284    2.096   0.0  \n",
      "81   TB    Y   TB    2.044    1.944    2.528   0.0  \n",
      "84    K    K    K    2.892    3.108    3.032   1.0  \n",
      "86    K    K    K    2.644    2.608    2.628   0.0  \n",
      "87   TB   TB   TB    2.176    2.312    2.592   0.0  \n",
      "88   TB    K   TB    2.012    2.632    2.400   0.0  \n",
      "89   TB   TB   TB    2.048    2.128    2.276   0.0  \n",
      "90    K    G    G    3.136    3.308    3.316   1.0  \n",
      "91   TB    K    K    2.468    2.652    3.060   0.0  \n",
      "92   TB    K    K    2.440    2.612    2.704   0.0  \n",
      "93    K    K    K    2.612    2.848    2.788   0.0  \n",
      "94   TB    K    K    2.440    2.684    2.672   0.0  \n",
      "97    K    K    K    2.820    3.136    3.068   1.0  \n",
      "98    Y    Y   TB    1.660    1.888    2.116   0.0  \n",
      "99   TB   TB   TB    2.104    2.288    2.340   0.0  \n",
      "\n",
      "[52 rows x 66 columns]\n"
     ]
    }
   ],
   "source": [
    "df_nam = df[df['GT'] == 'M']\n",
    "print(df_nam)"
   ]
  },
  {
   "cell_type": "code",
   "execution_count": 18,
   "metadata": {},
   "outputs": [
    {
     "name": "stdout",
     "output_type": "stream",
     "text": [
      "     count\n",
      "DT        \n",
      "0.0     50\n",
      "1.0      1\n",
      "6.0      1\n",
      "     count\n",
      "DT        \n",
      "0.0     50\n",
      "1.0      1\n",
      "6.0      1\n"
     ]
    }
   ],
   "source": [
    "dg_nam_theo_DT=df_nam.groupby('DT')['DT'].agg(['count'])\n",
    "print(dg_nam_theo_DT)\n",
    "dg_nam_theo_DT_bang=pd.pivot_table(dg_nam_theo_DT, values='count',columns='DT')\n",
    "print(dg_nam_theo_DT)"
   ]
  },
  {
   "cell_type": "code",
   "execution_count": 19,
   "metadata": {},
   "outputs": [
    {
     "data": {
      "text/plain": [
       "<AxesSubplot:xlabel='DT'>"
      ]
     },
     "execution_count": 19,
     "metadata": {},
     "output_type": "execute_result"
    },
    {
     "data": {
      "image/png": "[encoded data removed]",
      "text/plain": [
       "<Figure size 432x288 with 1 Axes>"
      ]
     },
     "metadata": {
      "needs_background": "light"
     },
     "output_type": "display_data"
    }
   ],
   "source": [
    "dg_nam_theo_DT.plot.bar()\n"
   ]
  },
  {
   "cell_type": "code",
   "execution_count": 20,
   "metadata": {},
   "outputs": [
    {
     "data": {
      "text/plain": [
       "<AxesSubplot:ylabel='count'>"
      ]
     },
     "execution_count": 20,
     "metadata": {},
     "output_type": "execute_result"
    },
    {
     "data": {
      "image/png": "[encoded data removed]",
      "text/plain": [
       "<Figure size 432x288 with 1 Axes>"
      ]
     },
     "metadata": {},
     "output_type": "display_data"
    }
   ],
   "source": [
    "dg_nam_theo_DT.plot.pie(y='count')"
   ]
  },
  {
   "cell_type": "code",
   "execution_count": 21,
   "metadata": {},
   "outputs": [
    {
     "data": {
      "text/plain": [
       "<AxesSubplot:ylabel='count'>"
      ]
     },
     "execution_count": 21,
     "metadata": {},
     "output_type": "execute_result"
    },
    {
     "data": {
      "image/png": "[encoded data removed]",
      "text/plain": [
       "<Figure size 432x288 with 1 Axes>"
      ]
     },
     "metadata": {
      "needs_background": "light"
     },
     "output_type": "display_data"
    },
    {
     "data": {
      "image/png": "[encoded data removed]",
      "text/plain": [
       "<Figure size 432x288 with 1 Axes>"
      ]
     },
     "metadata": {},
     "output_type": "display_data"
    }
   ],
   "source": [
    "dg_nam_theo_DT_bang=pd.pivot_table(dg_nam_theo_DT, values='count',columns='DT')\n",
    "dg_nam_theo_DT_bang.plot.bar()\n",
    "dg_nam_theo_DT.plot.pie(y='count')"
   ]
  },
  {
   "cell_type": "code",
   "execution_count": 22,
   "metadata": {},
   "outputs": [
    {
     "name": "stdout",
     "output_type": "stream",
     "text": [
      "    STT   T1   L1   H1   S1   V1   X1   D1   N1   T2  ...  TBM1  TBM2  TBM3  \\\n",
      "2     3  5.6  6.8  7.2  7.5  4.3  7.4  5.8  3.2  5.0  ...  5.77  5.38  6.04   \n",
      "11   12  7.9  7.0  9.1  8.6  6.1  7.0  5.6  9.0  8.2  ...  7.43  7.72  7.49   \n",
      "23   24  5.3  6.3  5.7  6.9  5.9  7.5  6.6  5.1  6.4  ...  6.05  6.32  6.71   \n",
      "84   85  8.4  7.4  6.0  7.8  6.3  7.2  8.5  6.0  9.3  ...  7.23  7.77  7.58   \n",
      "90   91  8.1  7.7  9.1  8.5  6.1  8.6  8.8  7.3  8.8  ...  7.84  8.27  8.29   \n",
      "97   98  8.8  5.5  7.4  7.7  6.2  7.3  8.1  4.5  9.5  ...  7.05  7.84  7.67   \n",
      "\n",
      "    XL1  XL2  XL3  US_TBM1  US_TBM2  US_TBM3  KQXT  \n",
      "2    TB   TB   TB    2.308    2.152    2.416   1.0  \n",
      "11    K    K    K    2.972    3.088    2.996   1.0  \n",
      "23   TB   TB    K    2.420    2.528    2.684   1.0  \n",
      "84    K    K    K    2.892    3.108    3.032   1.0  \n",
      "90    K    G    G    3.136    3.308    3.316   1.0  \n",
      "97    K    K    K    2.820    3.136    3.068   1.0  \n",
      "\n",
      "[6 rows x 66 columns]\n"
     ]
    }
   ],
   "source": [
    "df_nam = df[(df['GT'] == 'M') & ((df['DH1']  >= 5) & (df['DH2']  >= 4) & (df['DH3']  >= 4)) & (df['DT'] == 0)]\n",
    "print(df_nam)\n",
    "\n"
   ]
  },
  {
   "cell_type": "code",
   "execution_count": 23,
   "metadata": {},
   "outputs": [
    {
     "name": "stdout",
     "output_type": "stream",
     "text": [
      "     count\n",
      "KV        \n",
      "1        2\n",
      "2        2\n",
      "2NT      2\n"
     ]
    }
   ],
   "source": [
    "dg_nam_theo_KV=df_nam.groupby('KV')['KV'].agg(['count'])\n",
    "print(dg_nam_theo_KV)\n"
   ]
  },
  {
   "cell_type": "code",
   "execution_count": 24,
   "metadata": {},
   "outputs": [
    {
     "name": "stdout",
     "output_type": "stream",
     "text": [
      "KV     1  2  2NT\n",
      "count  2  2    2\n"
     ]
    }
   ],
   "source": [
    "dg_nam_theo_KV_bang=pd.pivot_table(dg_nam_theo_KV, values='count',columns='KV')\n",
    "print(dg_nam_theo_KV_bang)\n"
   ]
  },
  {
   "cell_type": "code",
   "execution_count": 25,
   "metadata": {},
   "outputs": [
    {
     "data": {
      "text/plain": [
       "<AxesSubplot:ylabel='count'>"
      ]
     },
     "execution_count": 25,
     "metadata": {},
     "output_type": "execute_result"
    },
    {
     "data": {
      "image/png": "[encoded data removed]",
      "text/plain": [
       "<Figure size 432x288 with 1 Axes>"
      ]
     },
     "metadata": {
      "needs_background": "light"
     },
     "output_type": "display_data"
    },
    {
     "data": {
      "image/png": "[encoded data removed]",
      "text/plain": [
       "<Figure size 432x288 with 1 Axes>"
      ]
     },
     "metadata": {},
     "output_type": "display_data"
    }
   ],
   "source": [
    "dg_nam_theo_KV_bang.plot.bar()\n",
    "dg_nam_theo_KV.plot.pie(y='count')"
   ]
  },
  {
   "cell_type": "code",
   "execution_count": 26,
   "metadata": {},
   "outputs": [],
   "source": [
    "dai_hoc_1 = df[(df['DH1'] >= 5) & (df['KV'] == '2NT')]\n",
    "dai_hoc_2 = df[(df['DH2'] >= 5) & (df['KV'] == '2NT')]\n",
    "dai_hoc_3 = df[(df['DH3'] >= 5) & (df['KV'] == '2NT')]"
   ]
  },
  {
   "cell_type": "code",
   "execution_count": 27,
   "metadata": {},
   "outputs": [
    {
     "name": "stdout",
     "output_type": "stream",
     "text": [
      "      count\n",
      "DH1        \n",
      "5.25      2\n",
      "6.75      1\n",
      "7.00      1\n"
     ]
    }
   ],
   "source": [
    "dai_hoc_1_theo_DH = dai_hoc_1.groupby('DH1')['DH1'].agg(['count'])\n",
    "dai_hoc_2_theo_DH = dai_hoc_2.groupby('DH2')['DH2'].agg(['count'])\n",
    "dai_hoc_3_theo_DH = dai_hoc_3.groupby('DH3')['DH3'].agg(['count'])\n",
    "\n",
    "print(dai_hoc_1_theo_DH)"
   ]
  },
  {
   "cell_type": "code",
   "execution_count": 28,
   "metadata": {},
   "outputs": [
    {
     "data": {
      "text/plain": [
       "<AxesSubplot:ylabel='count'>"
      ]
     },
     "execution_count": 28,
     "metadata": {},
     "output_type": "execute_result"
    },
    {
     "data": {
      "image/png": "[encoded data removed]",
      "text/plain": [
       "<Figure size 432x288 with 1 Axes>"
      ]
     },
     "metadata": {
      "needs_background": "light"
     },
     "output_type": "display_data"
    },
    {
     "data": {
      "image/png": "[encoded data removed]",
      "text/plain": [
       "<Figure size 432x288 with 1 Axes>"
      ]
     },
     "metadata": {
      "needs_background": "light"
     },
     "output_type": "display_data"
    },
    {
     "data": {
      "image/png": "[encoded data removed]",
      "text/plain": [
       "<Figure size 432x288 with 1 Axes>"
      ]
     },
     "metadata": {
      "needs_background": "light"
     },
     "output_type": "display_data"
    },
    {
     "data": {
      "image/png": "[encoded data removed]",
      "text/plain": [
       "<Figure size 432x288 with 1 Axes>"
      ]
     },
     "metadata": {},
     "output_type": "display_data"
    },
    {
     "data": {
      "image/png": "[encoded data removed]",
      "text/plain": [
       "<Figure size 432x288 with 1 Axes>"
      ]
     },
     "metadata": {},
     "output_type": "display_data"
    },
    {
     "data": {
      "image/png": "[encoded data removed]",
      "text/plain": [
       "<Figure size 432x288 with 1 Axes>"
      ]
     },
     "metadata": {},
     "output_type": "display_data"
    }
   ],
   "source": [
    "dai_hoc_1_theo_DH_bang = pd.pivot_table(dai_hoc_1_theo_DH, values='count', columns='DH1')\n",
    "dai_hoc_2_theo_DH_bang = pd.pivot_table(dai_hoc_2_theo_DH, values='count', columns='DH2')\n",
    "dai_hoc_3_theo_DH_bang = pd.pivot_table(dai_hoc_3_theo_DH, values='count', columns='DH3')\n",
    "dai_hoc_1_theo_DH_bang.plot.bar()\n",
    "dai_hoc_2_theo_DH_bang.plot.bar()\n",
    "dai_hoc_3_theo_DH_bang.plot.bar()\n",
    "dai_hoc_1_theo_DH.plot.pie(y='count')\n",
    "dai_hoc_2_theo_DH.plot.pie(y='count')\n",
    "dai_hoc_3_theo_DH.plot.pie(y='count')"
   ]
  },
  {
   "cell_type": "code",
   "execution_count": 29,
   "metadata": {},
   "outputs": [
    {
     "name": "stdout",
     "output_type": "stream",
     "text": [
      "     count\n",
      "XL1       \n",
      "G        1\n",
      "K       24\n",
      "TB      18\n",
      "Y        5\n",
      "     count\n",
      "XL2       \n",
      "G        2\n",
      "K       30\n",
      "TB      15\n",
      "Y        1\n",
      "     count\n",
      "XL3       \n",
      "G        1\n",
      "K       35\n",
      "TB      12\n"
     ]
    }
   ],
   "source": [
    "df_nu=df[df['GT']== 'F']\n",
    "df_nu_XL1 = df_nu.groupby(['XL1'])['XL1'].agg(['count'])\n",
    "df_nu_XL2 = df_nu.groupby(['XL2'])['XL2'].agg(['count'])\n",
    "df_nu_XL3 = df_nu.groupby(['XL3'])['XL3'].agg(['count'])\n",
    "print(df_nu_XL1)\n",
    "print(df_nu_XL2)\n",
    "print(df_nu_XL3)"
   ]
  },
  {
   "cell_type": "code",
   "execution_count": 30,
   "metadata": {},
   "outputs": [],
   "source": [
    "y_XL1 = int(df_nu_XL1.loc['Y',:])\n",
    "tb_XL1 = int(df_nu_XL1.loc['TB',:])\n",
    "k_XL1 = int(df_nu_XL1.loc['K',:])\n",
    "g_XL1 = int(df_nu_XL1.loc['G',:])\n",
    "xs_XL1 = 0\n",
    "\n",
    "\n",
    "y_XL2 = int(df_nu_XL2.loc['Y',:])\n",
    "tb_XL2 = int(df_nu_XL2.loc['TB',:])\n",
    "k_XL2 = int(df_nu_XL2.loc['K',:])\n",
    "g_XL2 = int(df_nu_XL2.loc['G',:])\n",
    "xs_XL2 = 0\n",
    "\n",
    "y_XL3 = int(df_nu_XL2.loc['Y',:])\n",
    "tb_XL3 = int(df_nu_XL2.loc['TB'])\n",
    "k_XL3 = int(df_nu_XL2.loc['K',:])\n",
    "g_XL3 = 0\n",
    "xs_XL3 = 0\n",
    "\n",
    "Y=[y_XL1,y_XL2,y_XL3 ]\n",
    "TB=[tb_XL1,tb_XL2,tb_XL3]\n",
    "G=[g_XL1,g_XL2,g_XL3 ]\n",
    "K=[k_XL1,k_XL2,k_XL3 ]\n",
    "XS=[xs_XL1,xs_XL2,xs_XL3]\n",
    "\n",
    "\n",
    "index = ['XL1','XL2','XL3']"
   ]
  },
  {
   "cell_type": "code",
   "execution_count": 31,
   "metadata": {},
   "outputs": [],
   "source": [
    "df_XL_nu = pd.DataFrame({'Y':Y,'TB':TB,'K':K,'G':G,'XS':XS},index=index)"
   ]
  },
  {
   "cell_type": "code",
   "execution_count": 32,
   "metadata": {},
   "outputs": [
    {
     "data": {
      "text/plain": [
       "<AxesSubplot:>"
      ]
     },
     "execution_count": 32,
     "metadata": {},
     "output_type": "execute_result"
    },
    {
     "data": {
      "image/png": "[encoded data removed]",
      "text/plain": [
       "<Figure size 432x288 with 1 Axes>"
      ]
     },
     "metadata": {
      "needs_background": "light"
     },
     "output_type": "display_data"
    }
   ],
   "source": [
    "df_XL_nu.plot.bar()"
   ]
  },
  {
   "cell_type": "code",
   "execution_count": 33,
   "metadata": {},
   "outputs": [
    {
     "data": {
      "text/plain": [
       "<AxesSubplot:>"
      ]
     },
     "execution_count": 33,
     "metadata": {},
     "output_type": "execute_result"
    },
    {
     "data": {
      "image/png": "[encoded data removed]",
      "text/plain": [
       "<Figure size 432x288 with 1 Axes>"
      ]
     },
     "metadata": {
      "needs_background": "light"
     },
     "output_type": "display_data"
    }
   ],
   "source": [
    "df_KQXT = df[((df['KT'] == 'A1') | (df['KT'] == 'B') | (df['KT'] == 'A')) & ((df['KV'] == '1')  | (df['KV'] == '2')) ]\n",
    "df_KQXT_KV = df_KQXT.groupby(['KQXT'])['KQXT'].agg(['count'])\n",
    "df_KQXT_KV_bang = pd.pivot_table(df_KQXT_KV, values='count', columns='KQXT')\n",
    "df_KQXT_KV_bang.plot.bar()"
   ]
  },
  {
   "cell_type": "code",
   "execution_count": 34,
   "metadata": {},
   "outputs": [
    {
     "name": "stdout",
     "output_type": "stream",
     "text": [
      "        count\n",
      "KV  KT       \n",
      "1   A      29\n",
      "    A1      2\n",
      "    B       8\n",
      "    C       8\n",
      "    D1     13\n",
      "2   A       9\n",
      "    C       2\n",
      "    D1      8\n",
      "2NT A      11\n",
      "    A1      4\n",
      "    B       1\n",
      "    C       4\n",
      "    D1      1\n",
      "KV        1         2  2NT\n",
      "count  12.0  6.333333  4.2\n"
     ]
    },
    {
     "data": {
      "text/plain": [
       "<AxesSubplot:xlabel='KV,KT'>"
      ]
     },
     "execution_count": 34,
     "metadata": {},
     "output_type": "execute_result"
    },
    {
     "data": {
      "image/png": "[encoded data removed]",
      "text/plain": [
       "<Figure size 432x288 with 1 Axes>"
      ]
     },
     "metadata": {
      "needs_background": "light"
     },
     "output_type": "display_data"
    }
   ],
   "source": [
    "df_HS = df.groupby(['KV','KT'])['KV'].agg(['count'])\n",
    "print(df_HS)\n",
    "df_HS_bang = pd.pivot_table(df_HS, values='count', columns='KV')\n",
    "print(df_HS_bang)\n",
    "df_HS.plot.bar()"
   ]
  },
  {
   "cell_type": "code",
   "execution_count": 35,
   "metadata": {},
   "outputs": [
    {
     "name": "stdout",
     "output_type": "stream",
     "text": [
      "         count\n",
      "KQXT KT       \n",
      "0.0  A      45\n",
      "     A1      6\n",
      "     B       9\n",
      "     C      10\n",
      "     D1     20\n",
      "1.0  A       4\n",
      "     C       4\n",
      "     D1      2\n",
      "KT        A   A1    B    C    D1\n",
      "count  24.5  6.0  9.0  7.0  11.0\n"
     ]
    },
    {
     "data": {
      "text/plain": [
       "<AxesSubplot:xlabel='KQXT,KT'>"
      ]
     },
     "execution_count": 35,
     "metadata": {},
     "output_type": "execute_result"
    },
    {
     "data": {
      "image/png": "[encoded data removed]",
      "text/plain": [
       "<Figure size 432x288 with 1 Axes>"
      ]
     },
     "metadata": {
      "needs_background": "light"
     },
     "output_type": "display_data"
    }
   ],
   "source": [
    "df_HS = df.groupby(['KQXT','KT'])['KT'].agg(['count'])\n",
    "print(df_HS)\n",
    "df_HS_bang = pd.pivot_table(df_HS, values='count', columns='KT')\n",
    "print(df_HS_bang)\n",
    "df_HS.plot.bar()"
   ]
  },
  {
   "cell_type": "code",
   "execution_count": 36,
   "metadata": {},
   "outputs": [
    {
     "name": "stdout",
     "output_type": "stream",
     "text": [
      "          count\n",
      "KQXT KV        \n",
      "0.0  1       57\n",
      "     2       14\n",
      "     2NT     19\n",
      "1.0  1        3\n",
      "     2        5\n",
      "     2NT      2\n",
      "KV        1    2   2NT\n",
      "count  30.0  9.5  10.5\n"
     ]
    },
    {
     "data": {
      "text/plain": [
       "<AxesSubplot:xlabel='KQXT,KV'>"
      ]
     },
     "execution_count": 36,
     "metadata": {},
     "output_type": "execute_result"
    },
    {
     "data": {
      "image/png": "[encoded data removed]",
      "text/plain": [
       "<Figure size 432x288 with 1 Axes>"
      ]
     },
     "metadata": {
      "needs_background": "light"
     },
     "output_type": "display_data"
    }
   ],
   "source": [
    "df_HS = df.groupby(['KQXT','KV'])['KV'].agg(['count'])\n",
    "print(df_HS)\n",
    "df_HS_bang = pd.pivot_table(df_HS, values='count', columns='KV')\n",
    "print(df_HS_bang)\n",
    "df_HS.plot.bar()"
   ]
  },
  {
   "cell_type": "code",
   "execution_count": 37,
   "metadata": {},
   "outputs": [
    {
     "name": "stdout",
     "output_type": "stream",
     "text": [
      "          count\n",
      "KQXT DT        \n",
      "0.0  0.0     87\n",
      "     1.0      2\n",
      "     6.0      1\n",
      "1.0  0.0     10\n",
      "DT      0.0  1.0  6.0\n",
      "count  48.5  2.0  1.0\n"
     ]
    },
    {
     "data": {
      "text/plain": [
       "<AxesSubplot:xlabel='KQXT,DT'>"
      ]
     },
     "execution_count": 37,
     "metadata": {},
     "output_type": "execute_result"
    },
    {
     "data": {
      "image/png": "[encoded data removed]",
      "text/plain": [
       "<Figure size 432x288 with 1 Axes>"
      ]
     },
     "metadata": {
      "needs_background": "light"
     },
     "output_type": "display_data"
    }
   ],
   "source": [
    "df_HS = df.groupby(['KQXT','DT'])['DT'].agg(['count'])\n",
    "print(df_HS)\n",
    "df_HS_bang = pd.pivot_table(df_HS, values='count', columns='DT')\n",
    "print(df_HS_bang)\n",
    "df_HS.plot.bar()"
   ]
  },
  {
   "cell_type": "code",
   "execution_count": 38,
   "metadata": {},
   "outputs": [
    {
     "name": "stdout",
     "output_type": "stream",
     "text": [
      "         count\n",
      "KQXT GT       \n",
      "0.0  F      45\n",
      "     M      45\n",
      "1.0  F       3\n",
      "     M       7\n",
      "GT      F   M\n",
      "count  24  26\n"
     ]
    },
    {
     "data": {
      "text/plain": [
       "<AxesSubplot:xlabel='KQXT,GT'>"
      ]
     },
     "execution_count": 38,
     "metadata": {},
     "output_type": "execute_result"
    },
    {
     "data": {
      "image/png": "[encoded data removed]",
      "text/plain": [
       "<Figure size 432x288 with 1 Axes>"
      ]
     },
     "metadata": {
      "needs_background": "light"
     },
     "output_type": "display_data"
    }
   ],
   "source": [
    "df_HS = df.groupby(['KQXT','GT'])['GT'].agg(['count'])\n",
    "print(df_HS)\n",
    "df_HS_bang = pd.pivot_table(df_HS, values='count', columns='GT')\n",
    "print(df_HS_bang)\n",
    "df_HS.plot.bar()"
   ]
  },
  {
   "cell_type": "code",
   "execution_count": 39,
   "metadata": {},
   "outputs": [
    {
     "name": "stdout",
     "output_type": "stream",
     "text": [
      "AxesSubplot(0.125,0.125;0.775x0.755)\n"
     ]
    },
    {
     "data": {
      "image/png": "[encoded data removed]",
      "text/plain": [
       "<Figure size 432x288 with 1 Axes>"
      ]
     },
     "metadata": {
      "needs_background": "light"
     },
     "output_type": "display_data"
    }
   ],
   "source": [
    "df_T1 = df.groupby('T1')['T1'].agg(['count'])\n",
    "print(df_T1.plot())"
   ]
  },
  {
   "cell_type": "code",
   "execution_count": 40,
   "metadata": {},
   "outputs": [],
   "source": [
    "df.loc[(df['T1'] < 5), 'phanlopt1'] = 'kem'\n",
    "df.loc[(df['T1'] >= 5) & (df['T1'] < 7), 'phanlopt1'] = 'trungbinh'\n",
    "df.loc[(df['T1'] >= 7) & (df['T1'] < 8), 'phanlopt1'] = 'kha'\n",
    "df.loc[(df['T1'] >= 8), 'phanlopt1'] = 'gioi'\n"
   ]
  },
  {
   "cell_type": "code",
   "execution_count": 44,
   "metadata": {},
   "outputs": [
    {
     "name": "stdout",
     "output_type": "stream",
     "text": [
      "               T1  phanlopt1\n",
      "T1  phanlopt1               \n",
      "2.4 kem         1          1\n",
      "2.5 kem         1          1\n",
      "2.6 kem         1          1\n",
      "2.7 kem         1          1\n",
      "2.8 kem         1          1\n",
      "3.0 kem         2          2\n",
      "3.4 kem         1          1\n",
      "3.6 kem         2          2\n",
      "3.7 kem         1          1\n",
      "3.9 kem         1          1\n",
      "4.1 kem         1          1\n",
      "4.2 kem         1          1\n",
      "4.3 kem         1          1\n",
      "4.4 kem         1          1\n",
      "4.5 kem         1          1\n",
      "4.6 kem         1          1\n",
      "4.7 kem         1          1\n",
      "4.8 kem         1          1\n",
      "4.9 kem         3          3\n",
      "5.0 trungbinh   3          3\n",
      "5.1 trungbinh   2          2\n",
      "5.2 trungbinh   5          5\n",
      "5.3 trungbinh   5          5\n",
      "5.4 trungbinh   3          3\n",
      "5.5 trungbinh   3          3\n",
      "5.6 trungbinh   2          2\n",
      "5.7 trungbinh   2          2\n",
      "5.8 trungbinh   2          2\n",
      "5.9 trungbinh   1          1\n",
      "6.0 trungbinh   4          4\n",
      "6.1 trungbinh   1          1\n",
      "6.2 trungbinh   1          1\n",
      "6.3 trungbinh   3          3\n",
      "6.4 trungbinh   2          2\n",
      "6.5 trungbinh   3          3\n",
      "6.6 trungbinh   2          2\n",
      "6.7 trungbinh   1          1\n",
      "6.9 trungbinh   1          1\n",
      "7.0 kha         1          1\n",
      "7.1 kha         2          2\n",
      "7.2 kha         4          4\n",
      "7.3 kha         5          5\n",
      "7.5 kha         1          1\n",
      "7.6 kha         1          1\n",
      "7.8 kha         1          1\n",
      "7.9 kha         4          4\n",
      "8.1 gioi        2          2\n",
      "8.2 gioi        3          3\n",
      "8.3 gioi        2          2\n",
      "8.4 gioi        1          1\n",
      "8.6 gioi        1          1\n",
      "8.8 gioi        2          2\n",
      "9.3 gioi        1          1\n"
     ]
    }
   ],
   "source": [
    "dfphanlopt1 = df.groupby(['T1','phanlopt1'])[['T1','phanlopt1']].count()\n",
    "print(dfphanlopt1)"
   ]
  },
  {
   "cell_type": "code",
   "execution_count": 46,
   "metadata": {},
   "outputs": [
    {
     "name": "stdout",
     "output_type": "stream",
     "text": [
      "            T1                     phanlopt1                    \n",
      "phanlopt1 gioi  kem  kha trungbinh      gioi  kem  kha trungbinh\n",
      "T1                                                              \n",
      "2.4        NaN  1.0  NaN       NaN       NaN  1.0  NaN       NaN\n",
      "2.5        NaN  1.0  NaN       NaN       NaN  1.0  NaN       NaN\n",
      "2.6        NaN  1.0  NaN       NaN       NaN  1.0  NaN       NaN\n",
      "2.7        NaN  1.0  NaN       NaN       NaN  1.0  NaN       NaN\n",
      "2.8        NaN  1.0  NaN       NaN       NaN  1.0  NaN       NaN\n",
      "3.0        NaN  2.0  NaN       NaN       NaN  2.0  NaN       NaN\n",
      "3.4        NaN  1.0  NaN       NaN       NaN  1.0  NaN       NaN\n",
      "3.6        NaN  2.0  NaN       NaN       NaN  2.0  NaN       NaN\n",
      "3.7        NaN  1.0  NaN       NaN       NaN  1.0  NaN       NaN\n",
      "3.9        NaN  1.0  NaN       NaN       NaN  1.0  NaN       NaN\n",
      "4.1        NaN  1.0  NaN       NaN       NaN  1.0  NaN       NaN\n",
      "4.2        NaN  1.0  NaN       NaN       NaN  1.0  NaN       NaN\n",
      "4.3        NaN  1.0  NaN       NaN       NaN  1.0  NaN       NaN\n",
      "4.4        NaN  1.0  NaN       NaN       NaN  1.0  NaN       NaN\n",
      "4.5        NaN  1.0  NaN       NaN       NaN  1.0  NaN       NaN\n",
      "4.6        NaN  1.0  NaN       NaN       NaN  1.0  NaN       NaN\n",
      "4.7        NaN  1.0  NaN       NaN       NaN  1.0  NaN       NaN\n",
      "4.8        NaN  1.0  NaN       NaN       NaN  1.0  NaN       NaN\n",
      "4.9        NaN  3.0  NaN       NaN       NaN  3.0  NaN       NaN\n",
      "5.0        NaN  NaN  NaN       3.0       NaN  NaN  NaN       3.0\n",
      "5.1        NaN  NaN  NaN       2.0       NaN  NaN  NaN       2.0\n",
      "5.2        NaN  NaN  NaN       5.0       NaN  NaN  NaN       5.0\n",
      "5.3        NaN  NaN  NaN       5.0       NaN  NaN  NaN       5.0\n",
      "5.4        NaN  NaN  NaN       3.0       NaN  NaN  NaN       3.0\n",
      "5.5        NaN  NaN  NaN       3.0       NaN  NaN  NaN       3.0\n",
      "5.6        NaN  NaN  NaN       2.0       NaN  NaN  NaN       2.0\n",
      "5.7        NaN  NaN  NaN       2.0       NaN  NaN  NaN       2.0\n",
      "5.8        NaN  NaN  NaN       2.0       NaN  NaN  NaN       2.0\n",
      "5.9        NaN  NaN  NaN       1.0       NaN  NaN  NaN       1.0\n",
      "6.0        NaN  NaN  NaN       4.0       NaN  NaN  NaN       4.0\n",
      "6.1        NaN  NaN  NaN       1.0       NaN  NaN  NaN       1.0\n",
      "6.2        NaN  NaN  NaN       1.0       NaN  NaN  NaN       1.0\n",
      "6.3        NaN  NaN  NaN       3.0       NaN  NaN  NaN       3.0\n",
      "6.4        NaN  NaN  NaN       2.0       NaN  NaN  NaN       2.0\n",
      "6.5        NaN  NaN  NaN       3.0       NaN  NaN  NaN       3.0\n",
      "6.6        NaN  NaN  NaN       2.0       NaN  NaN  NaN       2.0\n",
      "6.7        NaN  NaN  NaN       1.0       NaN  NaN  NaN       1.0\n",
      "6.9        NaN  NaN  NaN       1.0       NaN  NaN  NaN       1.0\n",
      "7.0        NaN  NaN  1.0       NaN       NaN  NaN  1.0       NaN\n",
      "7.1        NaN  NaN  2.0       NaN       NaN  NaN  2.0       NaN\n",
      "7.2        NaN  NaN  4.0       NaN       NaN  NaN  4.0       NaN\n",
      "7.3        NaN  NaN  5.0       NaN       NaN  NaN  5.0       NaN\n",
      "7.5        NaN  NaN  1.0       NaN       NaN  NaN  1.0       NaN\n",
      "7.6        NaN  NaN  1.0       NaN       NaN  NaN  1.0       NaN\n",
      "7.8        NaN  NaN  1.0       NaN       NaN  NaN  1.0       NaN\n",
      "7.9        NaN  NaN  4.0       NaN       NaN  NaN  4.0       NaN\n",
      "8.1        2.0  NaN  NaN       NaN       2.0  NaN  NaN       NaN\n",
      "8.2        3.0  NaN  NaN       NaN       3.0  NaN  NaN       NaN\n",
      "8.3        2.0  NaN  NaN       NaN       2.0  NaN  NaN       NaN\n",
      "8.4        1.0  NaN  NaN       NaN       1.0  NaN  NaN       NaN\n",
      "8.6        1.0  NaN  NaN       NaN       1.0  NaN  NaN       NaN\n",
      "8.8        2.0  NaN  NaN       NaN       2.0  NaN  NaN       NaN\n",
      "9.3        1.0  NaN  NaN       NaN       1.0  NaN  NaN       NaN\n"
     ]
    },
    {
     "data": {
      "text/plain": [
       "<AxesSubplot:xlabel='T1', ylabel='Count'>"
      ]
     },
     "execution_count": 46,
     "metadata": {},
     "output_type": "execute_result"
    },
    {
     "data": {
      "image/png": "[encoded data removed]",
      "text/plain": [
       "<Figure size 432x288 with 1 Axes>"
      ]
     },
     "metadata": {
      "needs_background": "light"
     },
     "output_type": "display_data"
    }
   ],
   "source": [
    "unstackphanlopt1 = dfphanlopt1.unstack()\n",
    "print(unstackphanlopt1)\n",
    "unstackphanlopt1['phanlopt1'].plot(ylabel='Count')"
   ]
  }
 ],
 "metadata": {
  "kernelspec": {
   "display_name": "Python 3",
   "language": "python",
   "name": "python3"
  },
  "language_info": {
   "codemirror_mode": {
    "name": "ipython",
    "version": 3
   },
   "file_extension": ".py",
   "mimetype": "text/x-python",
   "name": "python",
   "nbconvert_exporter": "python",
   "pygments_lexer": "ipython3",
   "version": "3.8.5"
  }
 },
 "nbformat": 4,
 "nbformat_minor": 4
}
